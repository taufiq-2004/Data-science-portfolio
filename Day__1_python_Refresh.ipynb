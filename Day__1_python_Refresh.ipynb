{
  "nbformat": 4,
  "nbformat_minor": 0,
  "metadata": {
    "colab": {
      "provenance": [],
      "include_colab_link": true
    },
    "kernelspec": {
      "name": "python3",
      "display_name": "Python 3"
    },
    "language_info": {
      "name": "python"
    }
  },
  "cells": [
    {
      "cell_type": "markdown",
      "metadata": {
        "id": "view-in-github",
        "colab_type": "text"
      },
      "source": [
        "<a href=\"https://colab.research.google.com/github/taufiq-2004/Data-science-portfolio/blob/main/Day__1_python_Refresh.ipynb\" target=\"_parent\"><img src=\"https://colab.research.google.com/assets/colab-badge.svg\" alt=\"Open In Colab\"/></a>"
      ]
    },
    {
      "cell_type": "code",
      "execution_count": null,
      "metadata": {
        "colab": {
          "base_uri": "https://localhost:8080/"
        },
        "id": "IoZ3hTte9w1u",
        "outputId": "81632ee4-b746-4e31-9032-753e4a712248"
      },
      "outputs": [
        {
          "output_type": "stream",
          "name": "stdout",
          "text": [
            "<class 'int'> <class 'float'> <class 'str'> <class 'bool'>\n"
          ]
        }
      ],
      "source": [
        "x=10\n",
        "y=3.2\n",
        "name=\"Taufiq\"\n",
        "is_learning=True\n",
        "\n",
        "print(type(x), type(y), type(name), type(is_learning))"
      ]
    },
    {
      "cell_type": "code",
      "source": [
        "nums=[1,2,3,4,5,6]\n",
        "for n in nums:\n",
        "  print(n, n**2)"
      ],
      "metadata": {
        "colab": {
          "base_uri": "https://localhost:8080/"
        },
        "id": "TzcrnOK_HN5J",
        "outputId": "c57b3b2f-cd24-4040-f4f8-bcbe0f8623c6"
      },
      "execution_count": null,
      "outputs": [
        {
          "output_type": "stream",
          "name": "stdout",
          "text": [
            "1 1\n",
            "2 4\n",
            "3 9\n",
            "4 16\n",
            "5 25\n",
            "6 36\n"
          ]
        }
      ]
    },
    {
      "cell_type": "code",
      "source": [
        "from statistics import median\n",
        "def mean_median(values):\n",
        "  import statistics\n",
        "  mean=statistics.mean(values)\n",
        "  median=statistics.median(values)\n",
        "  return mean, median\n",
        "\n",
        "\n",
        "n=[4,45,3,35,6,2,53,2,5,2]\n",
        "print(mean_median(n))\n",
        "\n",
        "\n"
      ],
      "metadata": {
        "colab": {
          "base_uri": "https://localhost:8080/"
        },
        "id": "JsSfOCsyHdZa",
        "outputId": "c0cee4a7-3c3c-41f8-da99-07c178be8d13"
      },
      "execution_count": null,
      "outputs": [
        {
          "output_type": "stream",
          "name": "stdout",
          "text": [
            "(15.7, 4.5)\n"
          ]
        }
      ]
    },
    {
      "cell_type": "code",
      "source": [
        "squares=[n**2 for n in range(1,11)]\n",
        "print(squares)"
      ],
      "metadata": {
        "colab": {
          "base_uri": "https://localhost:8080/"
        },
        "id": "hzvT5WkrJNF-",
        "outputId": "9687188b-4ea0-4b99-d18d-780efba8cb33"
      },
      "execution_count": null,
      "outputs": [
        {
          "output_type": "stream",
          "name": "stdout",
          "text": [
            "[1, 4, 9, 16, 25, 36, 49, 64, 81, 100]\n"
          ]
        }
      ]
    },
    {
      "cell_type": "code",
      "source": [],
      "metadata": {
        "id": "d--LwtyxJxiv"
      },
      "execution_count": null,
      "outputs": []
    }
  ]
}