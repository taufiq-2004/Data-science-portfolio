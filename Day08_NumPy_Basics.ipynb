{
  "nbformat": 4,
  "nbformat_minor": 0,
  "metadata": {
    "colab": {
      "provenance": [],
      "authorship_tag": "ABX9TyNebTE+tKcyPYvjpoXQ6H5t",
      "include_colab_link": true
    },
    "kernelspec": {
      "name": "python3",
      "display_name": "Python 3"
    },
    "language_info": {
      "name": "python"
    }
  },
  "cells": [
    {
      "cell_type": "markdown",
      "metadata": {
        "id": "view-in-github",
        "colab_type": "text"
      },
      "source": [
        "<a href=\"https://colab.research.google.com/github/taufiq-2004/Data-science-portfolio/blob/main/Day08_NumPy_Basics.ipynb\" target=\"_parent\"><img src=\"https://colab.research.google.com/assets/colab-badge.svg\" alt=\"Open In Colab\"/></a>"
      ]
    },
    {
      "cell_type": "code",
      "execution_count": 2,
      "metadata": {
        "colab": {
          "base_uri": "https://localhost:8080/"
        },
        "id": "8gDkXYXEy3Tu",
        "outputId": "5c925392-57d5-4ef4-98ff-bbb9295243b8"
      },
      "outputs": [
        {
          "output_type": "stream",
          "name": "stdout",
          "text": [
            "[1 2 3 4 5]\n",
            "<class 'numpy.ndarray'>\n"
          ]
        }
      ],
      "source": [
        "import numpy as np\n",
        "\n",
        "arr=np.array([1,2,3,4,5])\n",
        "print(arr)\n",
        "print(type(arr))"
      ]
    },
    {
      "cell_type": "code",
      "source": [
        "matrix=np.array([[1,2,3], [4,5,6]])\n",
        "print(\"Matrix\", matrix)\n",
        "print(\"Matrix Shape\", matrix.shape)\n",
        "print(\"Dimension\", matrix.ndim)"
      ],
      "metadata": {
        "colab": {
          "base_uri": "https://localhost:8080/"
        },
        "id": "cHZw6Rz-zIxC",
        "outputId": "318ed717-b837-4a0f-e90b-473a3fe29981"
      },
      "execution_count": null,
      "outputs": [
        {
          "output_type": "stream",
          "name": "stdout",
          "text": [
            "Matrix [[1 2 3]\n",
            " [4 5 6]]\n",
            "Matrix Shape (2, 3)\n",
            "Dimension 2\n"
          ]
        }
      ]
    },
    {
      "cell_type": "code",
      "source": [
        "zeros=np.zeros((2,3))\n",
        "ones=np.ones((3,2))\n",
        "arange=np.arange(0,10,2)\n",
        "linspace=np.linspace(0,1,5)\n",
        "\n",
        "print(zeros)\n",
        "print(ones)\n",
        "print(arange)\n",
        "print(linspace)"
      ],
      "metadata": {
        "colab": {
          "base_uri": "https://localhost:8080/"
        },
        "id": "aswP6gX6zYB2",
        "outputId": "057c6eaf-a108-41d4-ff67-b3de90af5d98"
      },
      "execution_count": null,
      "outputs": [
        {
          "output_type": "stream",
          "name": "stdout",
          "text": [
            "[[0. 0. 0.]\n",
            " [0. 0. 0.]]\n",
            "[[1. 1.]\n",
            " [1. 1.]\n",
            " [1. 1.]]\n",
            "[0 2 4 6 8]\n",
            "[0.   0.25 0.5  0.75 1.  ]\n"
          ]
        }
      ]
    },
    {
      "cell_type": "code",
      "source": [
        "arr=np.array([10,20,30,40,50])\n",
        "print(arr[0])\n",
        "print(arr[1:4])\n",
        "arr[2]=100\n",
        "print(arr)"
      ],
      "metadata": {
        "colab": {
          "base_uri": "https://localhost:8080/"
        },
        "id": "dtUAc3kI1iVI",
        "outputId": "7e7dc74e-621c-4b77-afe3-1f4d0b6afe23"
      },
      "execution_count": null,
      "outputs": [
        {
          "output_type": "stream",
          "name": "stdout",
          "text": [
            "10\n",
            "[20 30 40]\n",
            "[ 10  20 100  40  50]\n"
          ]
        }
      ]
    },
    {
      "cell_type": "code",
      "source": [
        "a=np.array([1,2,3])\n",
        "b=np.array([4,5,6])\n",
        "print(a+b)\n",
        "print(a*b)\n",
        "print(a**b)\n",
        "print(np.sqrt(a))\n",
        "print(np.mean(b))"
      ],
      "metadata": {
        "colab": {
          "base_uri": "https://localhost:8080/"
        },
        "id": "vN9f_R6g2hYV",
        "outputId": "f521cfd6-623e-46ce-f079-959630196a98"
      },
      "execution_count": null,
      "outputs": [
        {
          "output_type": "stream",
          "name": "stdout",
          "text": [
            "[5 7 9]\n",
            "[ 4 10 18]\n",
            "[  1  32 729]\n",
            "[1.         1.41421356 1.73205081]\n",
            "5.0\n"
          ]
        }
      ]
    },
    {
      "cell_type": "code",
      "source": [
        "data=np.arange(1,10).reshape(3,3)\n",
        "print(data)\n",
        "print(\"Transpose\\n\", data.T)"
      ],
      "metadata": {
        "id": "PaAPqmFT7l11",
        "colab": {
          "base_uri": "https://localhost:8080/"
        },
        "outputId": "ba50cb61-1ac5-475a-fbb4-dac28466f257"
      },
      "execution_count": 3,
      "outputs": [
        {
          "output_type": "stream",
          "name": "stdout",
          "text": [
            "[[1 2 3]\n",
            " [4 5 6]\n",
            " [7 8 9]]\n",
            "Transpose\n",
            " [[1 4 7]\n",
            " [2 5 8]\n",
            " [3 6 9]]\n"
          ]
        }
      ]
    },
    {
      "cell_type": "code",
      "source": [
        "random_arr=np.random.rand(3,3)\n",
        "random_int=np.random.randint(1,100,5)\n",
        "\n",
        "print(random_arr)\n",
        "print(random_int)\n"
      ],
      "metadata": {
        "colab": {
          "base_uri": "https://localhost:8080/"
        },
        "id": "NPi4ko3iGs4e",
        "outputId": "8ad553e7-befa-42eb-deb7-de7e5d480b98"
      },
      "execution_count": 4,
      "outputs": [
        {
          "output_type": "stream",
          "name": "stdout",
          "text": [
            "[[0.81752194 0.38945625 0.48866628]\n",
            " [0.08676895 0.85460641 0.79748018]\n",
            " [0.16116362 0.06514078 0.98995677]]\n",
            "[78  9 11 45 48]\n"
          ]
        }
      ]
    },
    {
      "cell_type": "code",
      "source": [
        "arr=np.array([10,20,30,40,50])\n",
        "print(arr[arr>25])"
      ],
      "metadata": {
        "colab": {
          "base_uri": "https://localhost:8080/"
        },
        "id": "W6q5IKTwIqOE",
        "outputId": "cc294671-5438-48e8-ca6f-ca0aa63ae49f"
      },
      "execution_count": 5,
      "outputs": [
        {
          "output_type": "stream",
          "name": "stdout",
          "text": [
            "[30 40 50]\n"
          ]
        }
      ]
    },
    {
      "cell_type": "code",
      "source": [
        "import numpy as np\n",
        "\n",
        "arr = np.arange(10, 51, 5)\n",
        "print(arr)\n"
      ],
      "metadata": {
        "colab": {
          "base_uri": "https://localhost:8080/"
        },
        "id": "t5pKnZs9LvIV",
        "outputId": "3d5daef8-f4ff-489e-8cd7-4e8fcf12826e"
      },
      "execution_count": 18,
      "outputs": [
        {
          "output_type": "stream",
          "name": "stdout",
          "text": [
            "[10 15 20 25 30 35 40 45 50]\n"
          ]
        }
      ]
    },
    {
      "cell_type": "code",
      "source": [
        "reshaped_arr=arr[:-1].reshape(2,4)\n",
        "print(\"Reshaped Array:\\n\", reshaped_arr)"
      ],
      "metadata": {
        "colab": {
          "base_uri": "https://localhost:8080/"
        },
        "id": "G_bDfwohMOFs",
        "outputId": "b2cc3f64-9220-4c8d-c47c-7608d3e75fc9"
      },
      "execution_count": 19,
      "outputs": [
        {
          "output_type": "stream",
          "name": "stdout",
          "text": [
            "Reshaped Array:\n",
            " [[10 15 20 25]\n",
            " [30 35 40 45]]\n"
          ]
        }
      ]
    },
    {
      "cell_type": "code",
      "source": [
        "mean_val=np.mean(reshaped_arr)\n",
        "median_val=np.median(reshaped_arr)\n",
        "std_val=np.std(reshaped_arr)\n",
        "\n",
        "print(\"Mean\", mean_val)\n",
        "print(\"Median\", median_val)\n",
        "print(\"Standard_deviation\", std_val)"
      ],
      "metadata": {
        "colab": {
          "base_uri": "https://localhost:8080/"
        },
        "id": "HEgf74iENhhP",
        "outputId": "ab1af289-9756-44f3-cb18-280d0cc41cd3"
      },
      "execution_count": 13,
      "outputs": [
        {
          "output_type": "stream",
          "name": "stdout",
          "text": [
            "Mean 27.5\n",
            "Median 27.5\n",
            "Standard_deviation 11.4564392373896\n"
          ]
        }
      ]
    },
    {
      "cell_type": "code",
      "source": [
        "filtered_val=reshaped_arr[reshaped_arr>30]\n",
        "print(filtered_val)"
      ],
      "metadata": {
        "colab": {
          "base_uri": "https://localhost:8080/"
        },
        "id": "O1XDfTdbOdJd",
        "outputId": "6ee56955-47b7-4fa6-de5b-19928c841b22"
      },
      "execution_count": 15,
      "outputs": [
        {
          "output_type": "stream",
          "name": "stdout",
          "text": [
            "[35 40 45]\n"
          ]
        }
      ]
    },
    {
      "cell_type": "code",
      "source": [
        "rand_arr=np.random.randint(1, 21,(3,3))\n",
        "print(rand_arr)"
      ],
      "metadata": {
        "colab": {
          "base_uri": "https://localhost:8080/"
        },
        "id": "ccbEKxsAOsqH",
        "outputId": "3bd6d4fd-3213-4c1e-fb4b-e84d779a2bfa"
      },
      "execution_count": 22,
      "outputs": [
        {
          "output_type": "stream",
          "name": "stdout",
          "text": [
            "[[ 6  7  8]\n",
            " [ 8 15 13]\n",
            " [14 11 20]]\n"
          ]
        }
      ]
    },
    {
      "cell_type": "code",
      "source": [
        "r=np.random.randint(1,51,(3,3))\n",
        "\n",
        "print(r)\n",
        "print(r.T)\n",
        "print(r.ndim)\n",
        "print(r.shape)"
      ],
      "metadata": {
        "colab": {
          "base_uri": "https://localhost:8080/"
        },
        "id": "T_WPitJyPLOk",
        "outputId": "5d0b65d6-61f7-4796-a883-147916e4e675"
      },
      "execution_count": 35,
      "outputs": [
        {
          "output_type": "stream",
          "name": "stdout",
          "text": [
            "[[37  8 17]\n",
            " [24 29 44]\n",
            " [50  1 32]]\n",
            "[[37 24 50]\n",
            " [ 8 29  1]\n",
            " [17 44 32]]\n",
            "2\n",
            "(3, 3)\n"
          ]
        }
      ]
    },
    {
      "cell_type": "code",
      "source": [],
      "metadata": {
        "id": "sQ9zBpYwPxoo"
      },
      "execution_count": null,
      "outputs": []
    }
  ]
}