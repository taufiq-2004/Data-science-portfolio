{
  "nbformat": 4,
  "nbformat_minor": 0,
  "metadata": {
    "colab": {
      "provenance": [],
      "authorship_tag": "ABX9TyMf+RUCZwE3HIbl249LWHFA",
      "include_colab_link": true
    },
    "kernelspec": {
      "name": "python3",
      "display_name": "Python 3"
    },
    "language_info": {
      "name": "python"
    }
  },
  "cells": [
    {
      "cell_type": "markdown",
      "metadata": {
        "id": "view-in-github",
        "colab_type": "text"
      },
      "source": [
        "<a href=\"https://colab.research.google.com/github/taufiq-2004/Data-science-portfolio/blob/main/Day09_NumPy_Advanced.ipynb\" target=\"_parent\"><img src=\"https://colab.research.google.com/assets/colab-badge.svg\" alt=\"Open In Colab\"/></a>"
      ]
    },
    {
      "cell_type": "code",
      "execution_count": 1,
      "metadata": {
        "colab": {
          "base_uri": "https://localhost:8080/"
        },
        "id": "Gyri-fZb_jNc",
        "outputId": "d2df5010-cfed-4fd7-dc49-024cfec08d76"
      },
      "outputs": [
        {
          "output_type": "stream",
          "name": "stdout",
          "text": [
            "Original Array\n",
            " [[1 2 3]\n",
            " [4 5 6]]\n",
            "\n",
            "arr + 10 [[11 12 13]\n",
            " [14 15 16]]\n",
            "\n",
            "arr+b [[2 2 4]\n",
            " [5 5 7]]\n"
          ]
        }
      ],
      "source": [
        "import numpy as np\n",
        "\n",
        "arr=np.array([[1,2,3], [4,5,6]])\n",
        "\n",
        "print(\"Original Array\\n\", arr)\n",
        "\n",
        "print(\"\\narr + 10\", arr + 10)\n",
        "\n",
        "\n",
        "b=np.array([1,0,1])\n",
        "print(\"\\narr+b\", arr + b)"
      ]
    },
    {
      "cell_type": "code",
      "source": [
        "matrix= np.array([[1,2,3], [4,5,6]])\n",
        "\n",
        "print({\"Sum of Matrix\", np.sum(matrix)})\n",
        "print(\"Sum of matrix axis = 0\", np.sum(matrix, axis=0))\n",
        "print(\"Sum of Matrix axis = 1\", np.sum(matrix, axis=1))"
      ],
      "metadata": {
        "colab": {
          "base_uri": "https://localhost:8080/"
        },
        "id": "0PdIFH7YAXXR",
        "outputId": "96260c2e-3730-4dcb-f3b0-fb7a9bd72d53"
      },
      "execution_count": 2,
      "outputs": [
        {
          "output_type": "stream",
          "name": "stdout",
          "text": [
            "{'Sum of Matrix', np.int64(21)}\n",
            "Sum of matrix axis = 0 [5 7 9]\n",
            "Sum of Matrix axis = 1 [ 6 15]\n"
          ]
        }
      ]
    },
    {
      "cell_type": "code",
      "source": [
        "a=np.array([[1,2], [3,4]])\n",
        "b=np.array([[5,6], [7,8]])\n",
        "\n",
        "print(\"Element wise:\", a*b)\n",
        "print(\"Matrix Multiplication\", a @ b)"
      ],
      "metadata": {
        "colab": {
          "base_uri": "https://localhost:8080/"
        },
        "id": "7km309b2D0Xa",
        "outputId": "d9d8d4ad-f6cc-4da7-82fa-1d52fdbe87e1"
      },
      "execution_count": 3,
      "outputs": [
        {
          "output_type": "stream",
          "name": "stdout",
          "text": [
            "Element wise: [[ 5 12]\n",
            " [21 32]]\n",
            "Matrix Multiplication [[19 22]\n",
            " [43 50]]\n"
          ]
        }
      ]
    },
    {
      "cell_type": "code",
      "source": [
        "x=np.array([1,2,3])\n",
        "y=np.array([4,5,6])\n",
        "\n",
        "v_stack=np.vstack((x,y))\n",
        "h_stack=np.hstack((x,y))\n",
        "\n",
        "print(\"Vertical Stack\", v_stack)\n",
        "print(\"Horizontal Stack\", h_stack)\n",
        "\n",
        "arr=np.arange(10,3)\n",
        "split=np.split(arr, 3)\n",
        "\n",
        "print(\"After Split\", split)"
      ],
      "metadata": {
        "colab": {
          "base_uri": "https://localhost:8080/"
        },
        "id": "bAGuWqiEE2q-",
        "outputId": "682bd2e5-c83d-47f5-c683-6fa223b4ff9d"
      },
      "execution_count": 5,
      "outputs": [
        {
          "output_type": "stream",
          "name": "stdout",
          "text": [
            "Vertical Stack [[1 2 3]\n",
            " [4 5 6]]\n",
            "Horizontal Stack [1 2 3 4 5 6]\n",
            "After Split [array([], dtype=int64), array([], dtype=int64), array([], dtype=int64)]\n"
          ]
        }
      ]
    },
    {
      "cell_type": "code",
      "source": [
        "np.random.seed(42)\n",
        "rand_nums=np.random.randint(0, 100, (3, 3))\n",
        "print(\"Random Matrix With seed 42\\n\", rand_nums)"
      ],
      "metadata": {
        "colab": {
          "base_uri": "https://localhost:8080/"
        },
        "id": "lRUznEMYGb8m",
        "outputId": "ca32583d-62ce-49a5-f2be-f868b5644881"
      },
      "execution_count": 6,
      "outputs": [
        {
          "output_type": "stream",
          "name": "stdout",
          "text": [
            "Random Matrix With seed 42\n",
            " [[51 92 14]\n",
            " [71 60 20]\n",
            " [82 86 74]]\n"
          ]
        }
      ]
    },
    {
      "cell_type": "code",
      "source": [
        "a=np.random.randint(0, 100, (3, 3))\n",
        "b=np.array([1,2,3])\n",
        "print(\"A + B\", a+b)"
      ],
      "metadata": {
        "colab": {
          "base_uri": "https://localhost:8080/"
        },
        "id": "gfTcjJwHIPIG",
        "outputId": "42d5414f-88c4-4a73-c204-c02facb3c0a5"
      },
      "execution_count": 7,
      "outputs": [
        {
          "output_type": "stream",
          "name": "stdout",
          "text": [
            "A + B [[ 75  89 102]\n",
            " [ 24   4  24]\n",
            " [ 53   3  90]]\n"
          ]
        }
      ]
    },
    {
      "cell_type": "code",
      "source": [
        "row_mean=np.mean(a, axis=1)\n",
        "column_mean=np.mean(a, axis=0)\n",
        "\n",
        "print(\"Row-Wise Mean\", row_mean)\n",
        "print(\"Column-Wise Mean\", column_mean)"
      ],
      "metadata": {
        "colab": {
          "base_uri": "https://localhost:8080/"
        },
        "id": "8lDcZjo5I2j3",
        "outputId": "9d8963f7-d5ca-47ff-d932-25959e10ad9a"
      },
      "execution_count": 8,
      "outputs": [
        {
          "output_type": "stream",
          "name": "stdout",
          "text": [
            "Row-Wise Mean [86.66666667 15.33333333 46.66666667]\n",
            "Column-Wise Mean [49.66666667 30.         69.        ]\n"
          ]
        }
      ]
    },
    {
      "cell_type": "code",
      "source": [
        "x=np.array([[1,2], [3,4]])\n",
        "y=np.array([[5,6], [7,8]])\n",
        "\n",
        "print(\"X\", x)\n",
        "print(\"Y\", y)\n",
        "print(\"x * y\", x*y)\n",
        "print(\"X @ Y\", x@y)\n"
      ],
      "metadata": {
        "colab": {
          "base_uri": "https://localhost:8080/"
        },
        "id": "JLB8qWHSSEZ7",
        "outputId": "eb9e47c7-4f51-42fb-cfd3-ea2b3f0532ee"
      },
      "execution_count": 9,
      "outputs": [
        {
          "output_type": "stream",
          "name": "stdout",
          "text": [
            "X [[1 2]\n",
            " [3 4]]\n",
            "Y [[5 6]\n",
            " [7 8]]\n",
            "x * y [[ 5 12]\n",
            " [21 32]]\n",
            "X @ Y [[19 22]\n",
            " [43 50]]\n"
          ]
        }
      ]
    },
    {
      "cell_type": "code",
      "source": [
        "arr1=np.array([10,20,30])\n",
        "arr2=np.array([40,50,60])\n",
        "\n",
        "v_stacked=np.vstack((arr1, arr2))\n",
        "print(\"Vertically Stacked\", v_stacked)\n"
      ],
      "metadata": {
        "colab": {
          "base_uri": "https://localhost:8080/"
        },
        "id": "lafYnFyGSlsI",
        "outputId": "e7901959-3fc7-4fce-b652-4cc0af25d34d"
      },
      "execution_count": 10,
      "outputs": [
        {
          "output_type": "stream",
          "name": "stdout",
          "text": [
            "Vertically Stacked [[10 20 30]\n",
            " [40 50 60]]\n"
          ]
        }
      ]
    },
    {
      "cell_type": "code",
      "source": [
        "arr=np.arange(1,13)\n",
        "a_split=np.split(arr, 4)\n",
        "print(\"Original Array\", arr)\n",
        "print(\"Split\", a_split)"
      ],
      "metadata": {
        "colab": {
          "base_uri": "https://localhost:8080/"
        },
        "id": "qp2XTiC0TB0S",
        "outputId": "45473975-87e4-4474-cb0f-f3e3de0edf06"
      },
      "execution_count": 11,
      "outputs": [
        {
          "output_type": "stream",
          "name": "stdout",
          "text": [
            "Original Array [ 1  2  3  4  5  6  7  8  9 10 11 12]\n",
            "Split [array([1, 2, 3]), array([4, 5, 6]), array([7, 8, 9]), array([10, 11, 12])]\n"
          ]
        }
      ]
    },
    {
      "cell_type": "code",
      "source": [
        "np.random.seed(42)\n",
        "matrix1=np.random.randint(0, 100, (3, 3))\n",
        "np.random.seed(42)\n",
        "matrix2=np.random.randint(0, 100, (3, 3))\n",
        "print(\"Matrix 1\\n\", matrix1)\n",
        "print(\"\\nMatrix 2\\n\", matrix2)"
      ],
      "metadata": {
        "colab": {
          "base_uri": "https://localhost:8080/"
        },
        "id": "fYv87dMdTiM4",
        "outputId": "7212da84-8f44-4e38-b8b7-717eb67eeb6a"
      },
      "execution_count": 12,
      "outputs": [
        {
          "output_type": "stream",
          "name": "stdout",
          "text": [
            "Matrix 1\n",
            " [[51 92 14]\n",
            " [71 60 20]\n",
            " [82 86 74]]\n",
            "\n",
            "Matrix 2\n",
            " [[51 92 14]\n",
            " [71 60 20]\n",
            " [82 86 74]]\n"
          ]
        }
      ]
    },
    {
      "cell_type": "code",
      "source": [],
      "metadata": {
        "id": "Qv-rb3JmULEr"
      },
      "execution_count": null,
      "outputs": []
    }
  ]
}